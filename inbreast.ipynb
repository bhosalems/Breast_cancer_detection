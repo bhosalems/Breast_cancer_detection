{
 "cells": [
  {
   "cell_type": "code",
   "execution_count": 1,
   "id": "ee1693d6",
   "metadata": {},
   "outputs": [],
   "source": [
    "import tensorflow as tf\n",
    "from pandas import DataFrame, read_csv\n",
    "import matplotlib.pyplot as plt\n",
    "import keras\n",
    "import ssl\n",
    "ssl._create_default_https_context = ssl._create_unverified_context\n",
    "import numpy as np\n",
    "import pandas as pd\n",
    "from glob import glob\n",
    "import cv2\n",
    "from keras.preprocessing.image import load_img,img_to_array\n",
    "from keras import layers\n",
    "import tensorflow_addons as tfa\n",
    "from tensorflow.keras.applications import *\n",
    "from tensorflow.keras.optimizers import *\n",
    "from tensorflow.keras.losses import *\n",
    "from tensorflow.keras.layers import *\n",
    "from tensorflow.keras.models import *\n",
    "from tensorflow.keras.callbacks import *\n",
    "from tensorflow.keras.preprocessing.image import *\n",
    "from tensorflow.keras.utils import *\n",
    "from sklearn.model_selection import train_test_split\n",
    "from keras.preprocessing.image import ImageDataGenerator, array_to_img, img_to_array, load_img\n",
    "from tensorflow.keras import regularizers"
   ]
  },
  {
   "cell_type": "code",
   "execution_count": 2,
   "id": "be39da02",
   "metadata": {
    "scrolled": true
   },
   "outputs": [
    {
     "name": "stdout",
     "output_type": "stream",
     "text": [
      "2.7.0\n",
      "[PhysicalDevice(name='/physical_device:CPU:0', device_type='CPU')]\n"
     ]
    }
   ],
   "source": [
    "import tensorflow as tf\n",
    "print(tf.__version__)\n",
    "print(tf.config.list_physical_devices())"
   ]
  },
  {
   "cell_type": "code",
   "execution_count": 13,
   "id": "2987e495",
   "metadata": {},
   "outputs": [],
   "source": [
    "class_list=[]\n",
    "image_list=[]\n",
    "file = r'./inbreast/INbreast.xls'\n",
    "df = pd.read_excel(file,nrows=410)\n",
    "for path in glob('./inbreast/All-PNGs/*.png'):\n",
    "    name=int(path.split('/')[3].split('_')[0])\n",
    "    img = cv2.imread(path)\n",
    "    img=cv2.resize(img,(1200,1200))\n",
    "    class_list.append(df[df['File Name'] == name]['Bi-Rads'].iloc[0])\n",
    "    image_list.append(img)"
   ]
  },
  {
   "cell_type": "code",
   "execution_count": 14,
   "id": "f0f3fcd9",
   "metadata": {
    "scrolled": false
   },
   "outputs": [
    {
     "name": "stdout",
     "output_type": "stream",
     "text": [
      "[2, '4a', 2, '4c', 2, 1, 2, 2, 1, 3, 2, 1, 2, '4c', 2, 1, 2, 1, 2, 2, 2, 2, 2, 5, 2, '4c', 1, 2, 2, 1, 3, 1, 2, 3, 2, 2, 2, 2, 2, '4b', 1, 3, 2, 3, 2, 2, 2, 3, 5, 1, 2, 3, 2, '4c', 1, 2, '4c', 2, 2, 2, 2, 3, 2, 2, '4b', 2, 2, 2, 2, '4a', 2, 5, 5, 5, 2, 5, 1, 2, '4a', 1, '4c', 2, 2, 1, 2, '4c', 1, 2, 2, 2, '4b', 2, 5, 2, 2, 1, 2, 2, 1, 5, 1, 2, 2, 2, 2, 2, 2, '4a', 2, 5, 2, 1, 2, 1, 3, 2, 1, 5, 2, 3, '4a', 2, 1, 2, 2, 1, 1, 2, '4a', 5, 2, 2, 5, 2, 1, '4a', 2, '4c', 2, 2, 2, 2, 2, 2, 2, 5, 2, 2, 2, 1, 1, 2, 2, 2, 2, 2, 2, 2, 5, 1, 2, 5, 1, 3, 2, 2, 5, 1, 2, 2, 6, 3, 2, 2, 2, 1, 1, 2, 2, 2, 2, 6, 2, 1, '4c', 1, 2, 2, 2, 1, 5, 6, 2, 2, 2, 5, 2, 2, 1, 5, 2, 2, 2, 1, 5, 5, '4b', 5, '4c', 2, 1, 5, 5, '4a', 3, 2, 3, 2, '4c', 2, 2, 5, 2, 2, 1, 2, 1, 1, 2, 5, 2, 2, 5, 2, 2, 2, 2, 2, 1, 2, 1, 2, 1, 2, 1, 1, 2, 5, '4c', 1, 2, 5, 3, 2, 2, 2, 2, 2, 5, 2, 2, 1, 1, 1, 5, 2, 3, 2, 1, 2, 2, 1, 1, 2, 2, 2, '4c', 2, 2, 2, 2, 5, 2, 2, 2, 2, 1, 1, 6, 6, 5, 2, 2, 2, 2, 2, 2, 2, 2, 2, 3, 2, 2, 2, 2, '4c', 2, 2, 2, 1, '4b', 2, 6, 6, 2, 5, '4c', 2, 1, '4c', 1, 2, 2, 5, '4a', '4b', 1, 1, 2, 2, '4a', '4c', 3, 2, '4a', 2, 2, 2, 2, 2, 2, 3, 5, '4c', 2, 2, '4b', 5, '4a', 2, 2, 2, 2, 1, 2, 2, 5, 2, 2, 5, 3, 2, 1, 5, 1, 5, '4a', 1, 5, 2, 2, 2, 2, 2, 2, '4b', '4c', 2, 3, '4c', 5, 2, 2, 1, 2, 6, 2, 2, 2, 2, 5, 3, 5, 2, 2, 2, '4c', 1, 5, 5, 5, 2, 2, 2, 3, '4c', 5, 2, 2, 1]\n"
     ]
    }
   ],
   "source": [
    "print(class_list)"
   ]
  },
  {
   "cell_type": "code",
   "execution_count": 15,
   "id": "3e7a389c",
   "metadata": {},
   "outputs": [
    {
     "name": "stdout",
     "output_type": "stream",
     "text": [
      "{1, 2, 3, 5, 6, '4b', '4a', '4c'}\n",
      "{1: 0, 2: 1, 3: 2, 5: 3, 6: 4, '4b': 5, '4a': 6, '4c': 7}\n",
      "(410, 1200, 1200, 3)\n",
      "{1: 0, 2: 1, 3: 2, 5: 3, 6: 4, '4b': 5, '4a': 6, '4c': 7}\n"
     ]
    }
   ],
   "source": [
    "labels = set(class_list)\n",
    "print(labels)\n",
    "label2class = {}\n",
    "new_class_list =[]\n",
    "c = 0\n",
    "for l in labels:\n",
    "    label2class[l] = c\n",
    "    c+=1\n",
    "print(label2class)\n",
    "for l in class_list:\n",
    "    new_class_list.append(label2class[l])\n",
    "X=np.array(image_list)\n",
    "Y=np.array(new_class_list)\n",
    "print(X.shape)\n",
    "print(label2class)"
   ]
  },
  {
   "cell_type": "code",
   "execution_count": 7,
   "id": "9cd55722",
   "metadata": {
    "scrolled": true
   },
   "outputs": [
    {
     "name": "stdout",
     "output_type": "stream",
     "text": [
      "[1, 6, 1, 7, 1, 0, 1, 1, 0, 2, 1, 0, 1, 7, 1, 0, 1, 0, 1, 1, 1, 1, 1, 3, 1, 7, 0, 1, 1, 0, 2, 0, 1, 2, 1, 1, 1, 1, 1, 5, 0, 2, 1, 2, 1, 1, 1, 2, 3, 0, 1, 2, 1, 7, 0, 1, 7, 1, 1, 1, 1, 2, 1, 1, 5, 1, 1, 1, 1, 6, 1, 3, 3, 3, 1, 3, 0, 1, 6, 0, 7, 1, 1, 0, 1, 7, 0, 1, 1, 1, 5, 1, 3, 1, 1, 0, 1, 1, 0, 3, 0, 1, 1, 1, 1, 1, 1, 6, 1, 3, 1, 0, 1, 0, 2, 1, 0, 3, 1, 2, 6, 1, 0, 1, 1, 0, 0, 1, 6, 3, 1, 1, 3, 1, 0, 6, 1, 7, 1, 1, 1, 1, 1, 1, 1, 3, 1, 1, 1, 0, 0, 1, 1, 1, 1, 1, 1, 1, 3, 0, 1, 3, 0, 2, 1, 1, 3, 0, 1, 1, 4, 2, 1, 1, 1, 0, 0, 1, 1, 1, 1, 4, 1, 0, 7, 0, 1, 1, 1, 0, 3, 4, 1, 1, 1, 3, 1, 1, 0, 3, 1, 1, 1, 0, 3, 3, 5, 3, 7, 1, 0, 3, 3, 6, 2, 1, 2, 1, 7, 1, 1, 3, 1, 1, 0, 1, 0, 0, 1, 3, 1, 1, 3, 1, 1, 1, 1, 1, 0, 1, 0, 1, 0, 1, 0, 0, 1, 3, 7, 0, 1, 3, 2, 1, 1, 1, 1, 1, 3, 1, 1, 0, 0, 0, 3, 1, 2, 1, 0, 1, 1, 0, 0, 1, 1, 1, 7, 1, 1, 1, 1, 3, 1, 1, 1, 1, 0, 0, 4, 4, 3, 1, 1, 1, 1, 1, 1, 1, 1, 1, 2, 1, 1, 1, 1, 7, 1, 1, 1, 0, 5, 1, 4, 4, 1, 3, 7, 1, 0, 7, 0, 1, 1, 3, 6, 5, 0, 0, 1, 1, 6, 7, 2, 1, 6, 1, 1, 1, 1, 1, 1, 2, 3, 7, 1, 1, 5, 3, 6, 1, 1, 1, 1, 0, 1, 1, 3, 1, 1, 3, 2, 1, 0, 3, 0, 3, 6, 0, 3, 1, 1, 1, 1, 1, 1, 5, 7, 1, 2, 7, 3, 1, 1, 0, 1, 4, 1, 1, 1, 1, 3, 2, 3, 1, 1, 1, 7, 0, 3, 3, 3, 1, 1, 1, 2, 7, 3, 1, 1, 0]\n"
     ]
    }
   ],
   "source": [
    "print(new_class_list)"
   ]
  },
  {
   "cell_type": "code",
   "execution_count": 16,
   "id": "699f9b53",
   "metadata": {},
   "outputs": [
    {
     "name": "stdout",
     "output_type": "stream",
     "text": [
      "[False, True, False, True, False, False, False, False, False, False, False, False, False, True, False, False, False, False, False, False, False, False, False, True, False, True, False, False, False, False, False, False, False, False, False, False, False, False, False, True, False, False, False, False, False, False, False, False, True, False, False, False, False, True, False, False, True, False, False, False, False, False, False, False, True, False, False, False, False, True, False, True, True, True, False, True, False, False, True, False, True, False, False, False, False, True, False, False, False, False, True, False, True, False, False, False, False, False, False, True, False, False, False, False, False, False, False, True, False, True, False, False, False, False, False, False, False, True, False, False, True, False, False, False, False, False, False, False, True, True, False, False, True, False, False, True, False, True, False, False, False, False, False, False, False, True, False, False, False, False, False, False, False, False, False, False, False, False, True, False, False, True, False, False, False, False, True, False, False, False, True, False, False, False, False, False, False, False, False, False, False, True, False, False, True, False, False, False, False, False, True, True, False, False, False, True, False, False, False, True, False, False, False, False, True, True, True, True, True, False, False, True, True, True, False, False, False, False, True, False, False, True, False, False, False, False, False, False, False, True, False, False, True, False, False, False, False, False, False, False, False, False, False, False, False, False, False, True, True, False, False, True, False, False, False, False, False, False, True, False, False, False, False, False, True, False, False, False, False, False, False, False, False, False, False, False, True, False, False, False, False, True, False, False, False, False, False, False, True, True, True, False, False, False, False, False, False, False, False, False, False, False, False, False, False, True, False, False, False, False, True, False, True, True, False, True, True, False, False, True, False, False, False, True, True, True, False, False, False, False, True, True, False, False, True, False, False, False, False, False, False, False, True, True, False, False, True, True, True, False, False, False, False, False, False, False, True, False, False, True, False, False, False, True, False, True, True, False, True, False, False, False, False, False, False, True, True, False, False, True, True, False, False, False, False, True, False, False, False, False, True, False, True, False, False, False, True, False, True, True, True, False, False, False, False, True, True, False, False, False]\n"
     ]
    }
   ],
   "source": [
    "new_class_list_1=[False if i<3 else True for i in new_class_list]\n",
    "print(new_class_list_1)\n",
    "Y=np.array(new_class_list_1)"
   ]
  },
  {
   "cell_type": "code",
   "execution_count": 17,
   "id": "558d4c84",
   "metadata": {},
   "outputs": [
    {
     "name": "stdout",
     "output_type": "stream",
     "text": [
      "(287, 1200, 1200, 3)\n",
      "(41, 1200, 1200, 3)\n",
      "(82, 1200, 1200, 3)\n"
     ]
    }
   ],
   "source": [
    "x_train, x_test1, y_train, y_test1 = train_test_split(X, Y, test_size=0.3, random_state=42,shuffle=True)\n",
    "x_val, x_test, y_val, y_test = train_test_split(x_test1, y_test1, test_size=0.33, random_state=42,shuffle=True)\n",
    "print(x_train.shape)\n",
    "print(x_test.shape)\n",
    "print(x_val.shape)\n",
    "x_train_normalize = x_train.astype('float32') / 255.0\n",
    "x_test_normalize = x_test.astype('float32') / 255.0\n",
    "x_val_normalize = x_val.astype('float32') / 255.0"
   ]
  },
  {
   "cell_type": "code",
   "execution_count": 18,
   "id": "ca6bdc26",
   "metadata": {},
   "outputs": [],
   "source": [
    "datagen = ImageDataGenerator(zca_whitening=False,rotation_range=40,width_shift_range=0.2,height_shift_range=0.2\n",
    "                             ,shear_range=0.2,zoom_range=0.2,horizontal_flip=True,fill_mode='nearest')\n"
   ]
  },
  {
   "cell_type": "code",
   "execution_count": null,
   "id": "7c544dbf",
   "metadata": {},
   "outputs": [
    {
     "name": "stdout",
     "output_type": "stream",
     "text": [
      "Epoch 1/10\n"
     ]
    }
   ],
   "source": [
    "base_model = VGG19(input_shape=(1200,1200,3), weights='imagenet', include_top=False)\n",
    "model=Sequential()\n",
    "model.add(base_model)\n",
    "model.add(Dropout(0.2))\n",
    "model.add(Flatten())\n",
    "model.add(BatchNormalization())\n",
    "model.add(Dense(256,kernel_initializer='he_uniform'))\n",
    "model.add(BatchNormalization())\n",
    "model.add(Activation('relu'))\n",
    "model.add(Dropout(0.2))\n",
    "model.add(Dense(256,kernel_initializer='he_uniform'))\n",
    "model.add(BatchNormalization())\n",
    "model.add(Activation('relu'))\n",
    "model.add(Dropout(0.2))\n",
    "model.add(Dense(1,activation='sigmoid'))\n",
    "model.compile(optimizer='adam',loss='binary_crossentropy', metrics=['accuracy'])\n",
    "history = model.fit(x_train, y_train,validation_split=0.2,shuffle=True, epochs=10,validation_data=(x_val_normalize, y_val))\n",
    "loss_value , accuracy = model.evaluate(x_test, y_test)\n",
    "print('Test_loss_value = ' +str(loss_value))\n",
    "print('test_accuracy = ' + str(accuracy))"
   ]
  },
  {
   "cell_type": "code",
   "execution_count": 19,
   "id": "2e738549",
   "metadata": {
    "scrolled": false
   },
   "outputs": [
    {
     "name": "stdout",
     "output_type": "stream",
     "text": [
      "Epoch 1/10\n",
      "9/9 [==============================] - 163s 16s/step - loss: 447.9290 - accuracy: 0.6934 - val_loss: 335.3661 - val_accuracy: 0.8049\n",
      "Epoch 2/10\n",
      "9/9 [==============================] - 161s 17s/step - loss: 251.4668 - accuracy: 0.7561 - val_loss: 168.6308 - val_accuracy: 0.8049\n",
      "Epoch 3/10\n",
      "9/9 [==============================] - 163s 17s/step - loss: 169.3449 - accuracy: 0.7422 - val_loss: 159.2979 - val_accuracy: 0.8049\n",
      "Epoch 4/10\n",
      "9/9 [==============================] - 161s 17s/step - loss: 143.6761 - accuracy: 0.7561 - val_loss: 124.1903 - val_accuracy: 0.8049\n",
      "Epoch 5/10\n",
      "9/9 [==============================] - 159s 17s/step - loss: 127.3820 - accuracy: 0.7596 - val_loss: 123.9366 - val_accuracy: 0.8049\n",
      "Epoch 6/10\n",
      "9/9 [==============================] - 162s 17s/step - loss: 123.0112 - accuracy: 0.7561 - val_loss: 113.1848 - val_accuracy: 0.8049\n",
      "Epoch 7/10\n",
      "9/9 [==============================] - 161s 17s/step - loss: 117.9274 - accuracy: 0.7526 - val_loss: 119.1568 - val_accuracy: 0.8049\n",
      "Epoch 8/10\n",
      "9/9 [==============================] - 157s 17s/step - loss: 119.4654 - accuracy: 0.7561 - val_loss: 111.3762 - val_accuracy: 0.8049\n",
      "Epoch 9/10\n",
      "9/9 [==============================] - 160s 17s/step - loss: 116.1621 - accuracy: 0.7282 - val_loss: 117.7311 - val_accuracy: 0.8049\n",
      "Epoch 10/10\n",
      "9/9 [==============================] - 160s 17s/step - loss: 116.8945 - accuracy: 0.7561 - val_loss: 111.0386 - val_accuracy: 0.8049\n",
      "2/2 [==============================] - 3s 661ms/step - loss: 162.0325 - accuracy: 0.6585\n",
      "162.032470703125 0.6585366129875183\n"
     ]
    },
    {
     "data": {
      "text/plain": [
       "[<matplotlib.lines.Line2D at 0x7fac831e5ac0>]"
      ]
     },
     "execution_count": 19,
     "metadata": {},
     "output_type": "execute_result"
    },
    {
     "data": {
      "image/png": "[encoded data removed]",
      "text/plain": [
       "<Figure size 432x288 with 1 Axes>"
      ]
     },
     "metadata": {
      "needs_background": "light"
     },
     "output_type": "display_data"
    }
   ],
   "source": [
    "epochs = 10\n",
    "class_weight = {True: 1.,\n",
    "                False: 3}\n",
    "filename='twolayer.csv'\n",
    "history_logger=tf.keras.callbacks.CSVLogger(filename, separator=\",\", append=True)\n",
    "# batch_size = 32\n",
    "cnn_model=tf.keras.Sequential([\n",
    "tf.keras.layers.Conv2D(16,(5,5),input_shape=(1200,1200,3),activation='relu'),\n",
    "tf.keras.layers.MaxPooling2D(2,2), # First Convolution and Pooling Layers\n",
    "tf.keras.layers.Conv2D(32,(5,5),activation='relu'),\n",
    "tf.keras.layers.MaxPooling2D(2,2), # Second Convolution and Pooling Layers\n",
    "tf.keras.layers.Dropout(0.3), # First dropout\n",
    "# tf.keras.layers.Conv2D(32,(2,2),activation='relu'),\n",
    "# tf.keras.layers.MaxPooling2D(2,2), # Third Convolution and Pooling Layers\n",
    "# tf.keras.layers.Dropout(0.3), # Second dropout\n",
    "])\n",
    "cnn_model.add(Flatten())\n",
    "cnn_model.add(Dense(32, activation='relu', kernel_initializer='he_uniform',kernel_regularizer=regularizers.L1(0.01)))\n",
    "cnn_model.add(Dense(1, activation='sigmoid',kernel_regularizer=regularizers.L1(0.01)))\n",
    "opt = Adam(learning_rate=0.001)\n",
    "cnn_model.compile(optimizer = opt , loss = 'binary_crossentropy' , metrics = ['accuracy'])\n",
    "# history = cnn_model.fit(x_train, y_train,validation_data=(x_val,y_val),epochs=10)\n",
    "history = cnn_model.fit(datagen.flow(x_train_normalize, y_train),epochs=epochs,\n",
    "                        validation_data=(x_val_normalize, y_val),class_weight=class_weight,callbacks=[history_logger],)\n",
    "loss_value , accuracy = cnn_model.evaluate(x_test,y_test)\n",
    "print(loss_value,accuracy)\n",
    "plt.plot(history.history['accuracy'])\n",
    "plt.plot(history.history['val_accuracy'])"
   ]
  },
  {
   "cell_type": "code",
   "execution_count": null,
   "id": "8c56cc9e",
   "metadata": {},
   "outputs": [],
   "source": [
    "train_y=y_train\n",
    "val_y=y_val\n",
    "test_y=y_test\n",
    "ann_model.compile(optimizer='adam',loss='binary_crossentropy', metrics=['accuracy'])\n",
    "history = ann_model.fit(train_features, train_y,validation_data=(val_features,val_y), epochs=100)\n",
    "loss_value , accuracy = ann_model.evaluate(train_features, train_y)\n",
    "\n",
    "# print('Train_accuracy is:' + str(accuracy))\n",
    "# loss_value , accuracy = ann_model.evaluate(val_features, val_y)\n",
    "# print('Validation_accuracy is := ' + str(accuracy))\n",
    "# loss_value , accuracy = ann_model.evaluate(test_features, test_y)\n",
    "# print('test_accuracy is : = ' + str(accuracy))\n",
    "# print(\"Performance Report:\")\n",
    "# y_pred1=ann_model.predict(test_features)\n",
    "\n",
    "# target=[\"0\",\"1\"]\n",
    "# from sklearn import metrics\n",
    "# print('Accuracy score is :', np.round(metrics.accuracy_score(test_y, y_pred1),4))\n",
    "# print('Precision score is :', np.round(metrics.precision_score(test_y, y_pred1, average='weighted'),4))\n",
    "# print('Recall score is :', np.round(metrics.recall_score(test_y,y_pred1, average='weighted'),4))\n",
    "# print('F1 Score is :', np.round(metrics.f1_score(test_y, y_pred1, average='weighted'),4))\n"
   ]
  },
  {
   "cell_type": "code",
   "execution_count": null,
   "id": "f4c9c981",
   "metadata": {},
   "outputs": [],
   "source": [
    "learning_rate = 0.001\n",
    "weight_decay = 0.0001\n",
    "batch_size = 256\n",
    "num_epochs = 100\n",
    "image_size = 800  # We'll resize input images to this size\n",
    "patch_size = 6  # Size of the patches to be extract from the input images\n",
    "num_patches = (image_size // patch_size) ** 2\n",
    "projection_dim = 64\n",
    "num_heads = 4\n",
    "num_classes = 100\n",
    "input_shape = (800, 800, 3)\n",
    "transformer_units = [\n",
    "    projection_dim * 2,\n",
    "    projection_dim,\n",
    "]  # Size of the transformer layers\n",
    "transformer_layers = 8\n",
    "mlp_head_units = [2048, 1024]  # Size of the dense layers of the final classifier"
   ]
  },
  {
   "cell_type": "code",
   "execution_count": null,
   "id": "802cd5a2",
   "metadata": {},
   "outputs": [],
   "source": [
    "data_augmentation = keras.Sequential(\n",
    "    [\n",
    "        layers.Normalization(),\n",
    "        layers.Resizing(image_size,image_size),\n",
    "        layers.RandomFlip(\"horizontal\"),\n",
    "        layers.RandomRotation(factor=0.02),\n",
    "        layers.RandomZoom(\n",
    "            height_factor=0.2, width_factor=0.2\n",
    "        ),\n",
    "    ],\n",
    "    name=\"data_augmentation\",\n",
    ")\n",
    "# Compute the mean and the variance of the training data for normalization.\n",
    "data_augmentation.layers[0].adapt(x_train)"
   ]
  },
  {
   "cell_type": "code",
   "execution_count": null,
   "id": "a39d75d3",
   "metadata": {},
   "outputs": [],
   "source": [
    "def mlp(x, hidden_units, dropout_rate):\n",
    "    for units in hidden_units:\n",
    "        x = layers.Dense(units, activation=tf.nn.gelu)(x)\n",
    "        x = layers.Dropout(dropout_rate)(x)\n",
    "    return x"
   ]
  },
  {
   "cell_type": "code",
   "execution_count": null,
   "id": "73441c15",
   "metadata": {},
   "outputs": [],
   "source": [
    "class Patches(layers.Layer):\n",
    "    def __init__(self, patch_size):\n",
    "        super(Patches, self).__init__()\n",
    "        self.patch_size = patch_size\n",
    "\n",
    "    def call(self, images):\n",
    "        batch_size = tf.shape(images)[0]\n",
    "        patches = tf.image.extract_patches(\n",
    "            images=images,\n",
    "            sizes=[1, self.patch_size, self.patch_size, 1],\n",
    "            strides=[1, self.patch_size, self.patch_size, 1],\n",
    "            rates=[1, 1, 1, 1],\n",
    "            padding=\"VALID\",\n",
    "        )\n",
    "        patch_dims = patches.shape[-1]\n",
    "        patches = tf.reshape(patches, [batch_size, -1, patch_dims])\n",
    "        return patches"
   ]
  },
  {
   "cell_type": "code",
   "execution_count": null,
   "id": "542b381c",
   "metadata": {},
   "outputs": [],
   "source": [
    "class PatchEncoder(layers.Layer):\n",
    "    def __init__(self, num_patches, projection_dim):\n",
    "        super(PatchEncoder, self).__init__()\n",
    "        self.num_patches = num_patches\n",
    "        self.projection = layers.Dense(units=projection_dim)\n",
    "        self.position_embedding = layers.Embedding(\n",
    "            input_dim=num_patches, output_dim=projection_dim\n",
    "        )\n",
    "\n",
    "    def call(self, patch):\n",
    "        positions = tf.range(start=0, limit=self.num_patches, delta=1)\n",
    "        encoded = self.projection(patch) + self.position_embedding(positions)\n",
    "        return encoded"
   ]
  },
  {
   "cell_type": "code",
   "execution_count": null,
   "id": "4a981520",
   "metadata": {},
   "outputs": [],
   "source": [
    "def create_vit_classifier():\n",
    "    inputs = layers.Input(shape=input_shape)\n",
    "    # Augment data.\n",
    "    augmented = data_augmentation(inputs)\n",
    "    # Create patches.\n",
    "    patches = Patches(patch_size)(augmented)\n",
    "    # Encode patches.\n",
    "    encoded_patches = PatchEncoder(num_patches, projection_dim)(patches)\n",
    "\n",
    "    # Create multiple layers of the Transformer block.\n",
    "    for _ in range(transformer_layers):\n",
    "        # Layer normalization 1.\n",
    "        x1 = layers.LayerNormalization(epsilon=1e-6)(encoded_patches)\n",
    "        # Create a multi-head attention layer.\n",
    "        attention_output = layers.MultiHeadAttention(\n",
    "            num_heads=num_heads, key_dim=projection_dim, dropout=0.1\n",
    "        )(x1, x1)\n",
    "        # Skip connection 1.\n",
    "        x2 = layers.Add()([attention_output, encoded_patches])\n",
    "        # Layer normalization 2.\n",
    "        x3 = layers.LayerNormalization(epsilon=1e-6)(x2)\n",
    "        # MLP.\n",
    "        x3 = mlp(x3, hidden_units=transformer_units, dropout_rate=0.1)\n",
    "        # Skip connection 2.\n",
    "        encoded_patches = layers.Add()([x3, x2])\n",
    "\n",
    "    # Create a [batch_size, projection_dim] tensor.\n",
    "    representation = layers.LayerNormalization(epsilon=1e-6)(encoded_patches)\n",
    "    representation = layers.Flatten()(representation)\n",
    "    representation = layers.Dropout(0.5)(representation)\n",
    "    # Add MLP.\n",
    "    features = mlp(representation, hidden_units=mlp_head_units, dropout_rate=0.5)\n",
    "    # Classify outputs.\n",
    "    logits = layers.Dense(num_classes)(features)\n",
    "    # Create the Keras model.\n",
    "    model = keras.Model(inputs=inputs, outputs=logits)\n",
    "    return model"
   ]
  },
  {
   "cell_type": "code",
   "execution_count": null,
   "id": "a84aca7c",
   "metadata": {},
   "outputs": [],
   "source": [
    "def run_experiment(model):\n",
    "    optimizer = tfa.optimizers.AdamW(\n",
    "        learning_rate=learning_rate, weight_decay=weight_decay\n",
    "    )\n",
    "\n",
    "    model.compile(\n",
    "        optimizer=optimizer,\n",
    "        loss=keras.losses.SparseCategoricalCrossentropy(from_logits=True),\n",
    "        metrics=[\n",
    "            keras.metrics.SparseCategoricalAccuracy(name=\"accuracy\"),\n",
    "            keras.metrics.SparseTopKCategoricalAccuracy(5, name=\"top-5-accuracy\"),\n",
    "        ],\n",
    "    )\n",
    "\n",
    "    checkpoint_filepath = \"/tmp/checkpoint\"\n",
    "    checkpoint_callback = keras.callbacks.ModelCheckpoint(\n",
    "        checkpoint_filepath,\n",
    "        monitor=\"val_accuracy\",\n",
    "        save_best_only=True,\n",
    "        save_weights_only=True,\n",
    "    )\n",
    "\n",
    "    history = model.fit(\n",
    "        x=x_train,\n",
    "        y=y_train,\n",
    "        batch_size=batch_size,\n",
    "        epochs=num_epochs,\n",
    "        validation_split=0.1,\n",
    "        callbacks=[checkpoint_callback],\n",
    "    )\n",
    "\n",
    "    model.load_weights(checkpoint_filepath)\n",
    "    _, accuracy, top_5_accuracy = model.evaluate(x_test, y_test)\n",
    "    print(f\"Test accuracy: {round(accuracy * 100, 2)}%\")\n",
    "    print(f\"Test top 5 accuracy: {round(top_5_accuracy * 100, 2)}%\")\n",
    "\n",
    "    return history\n",
    "\n",
    "\n",
    "vit_classifier = create_vit_classifier()\n",
    "history = run_experiment(vit_classifier)"
   ]
  },
  {
   "cell_type": "code",
   "execution_count": null,
   "id": "3cba03b2",
   "metadata": {},
   "outputs": [],
   "source": []
  }
 ],
 "metadata": {
  "kernelspec": {
   "display_name": "Python 3 (ipykernel)",
   "language": "python",
   "name": "python3"
  },
  "language_info": {
   "codemirror_mode": {
    "name": "ipython",
    "version": 3
   },
   "file_extension": ".py",
   "mimetype": "text/x-python",
   "name": "python",
   "nbconvert_exporter": "python",
   "pygments_lexer": "ipython3",
   "version": "3.8.11"
  }
 },
 "nbformat": 4,
 "nbformat_minor": 5
}
